version https://git-lfs.github.com/spec/v1
oid sha256:6a8cd3dfda4f63e22d2db9979220db0b10308b69fd564cde4b897f52d21d6bf7
size 57471478
